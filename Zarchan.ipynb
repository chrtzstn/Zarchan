{
 "cells": [
  {
   "cell_type": "code",
   "execution_count": 1,
   "id": "4bc85dc8-8658-4dd9-b5f2-011e0dd48957",
   "metadata": {},
   "outputs": [],
   "source": [
    "%matplotlib inline\n",
    "import sympy as sym\n",
    "import numpy as np\n",
    "import matplotlib.pyplot as plt\n",
    "plt.rcParams.update({\n",
    "    \"text.usetex\": True,\n",
    "    \"font.family\": \"serif\",\n",
    "    \"font.serif\": [\"Palatino\"]})"
   ]
  },
  {
   "cell_type": "code",
   "execution_count": 2,
   "id": "41de10d9",
   "metadata": {},
   "outputs": [],
   "source": [
    "t, t_f, t_go, V_c= sym.symbols('t t_f t_go V_c ')"
   ]
  },
  {
   "cell_type": "code",
   "execution_count": 3,
   "id": "f63d606b",
   "metadata": {},
   "outputs": [
    {
     "data": {
      "text/latex": [
       "$\\displaystyle \\frac{\\operatorname{q_{0}}{\\left(t \\right)}}{- t + t_{f}}$"
      ],
      "text/plain": [
       "q_0(t)/(-t + t_f)"
      ]
     },
     "execution_count": 3,
     "metadata": {},
     "output_type": "execute_result"
    }
   ],
   "source": [
    "q0 = sym.Function('q_0')(t)\n",
    "lmbd = q0/(t_f - t)\n",
    "lmbd"
   ]
  },
  {
   "cell_type": "code",
   "execution_count": 4,
   "id": "7be007f6",
   "metadata": {},
   "outputs": [
    {
     "data": {
      "text/latex": [
       "$\\displaystyle \\frac{\\frac{d}{d t} \\operatorname{q_{0}}{\\left(t \\right)}}{- t + t_{f}} + \\frac{\\operatorname{q_{0}}{\\left(t \\right)}}{\\left(- t + t_{f}\\right)^{2}}$"
      ],
      "text/plain": [
       "Derivative(q_0(t), t)/(-t + t_f) + q_0(t)/(-t + t_f)**2"
      ]
     },
     "execution_count": 4,
     "metadata": {},
     "output_type": "execute_result"
    }
   ],
   "source": [
    "lmbd_dot = sym.diff(lmbd,t)\n",
    "lmbd_dot"
   ]
  },
  {
   "cell_type": "code",
   "execution_count": 5,
   "id": "364b1268",
   "metadata": {},
   "outputs": [
    {
     "data": {
      "text/latex": [
       "$\\displaystyle \\left[\\begin{matrix}0 & 1 & 0 & 0 & 0 & 0 & 0\\\\0 & 0 & -1 & 0 & 0 & 0 & 0\\\\0 & 0 & 0 & 1 & 0 & 0 & 0\\\\0 & 0 & 0 & 0 & 1 & 0 & 0\\\\0 & 0 & 0 & 0 & 0 & 1 & 0\\\\0 & 0 & 0 & 0 & 0 & 0 & 1\\\\\\frac{N}{T^{5} \\left(- t + t_{f}\\right)^{2}} & \\frac{N}{T^{5} \\left(- t + t_{f}\\right)} & - \\frac{1}{T^{5}} & - \\frac{5}{T^{4}} & - \\frac{10}{T^{3}} & - \\frac{10}{T^{2}} & - \\frac{5}{T}\\end{matrix}\\right]$"
      ],
      "text/plain": [
       "Matrix([\n",
       "[                     0,                   1,       0,       0,        0,        0,    0],\n",
       "[                     0,                   0,      -1,       0,        0,        0,    0],\n",
       "[                     0,                   0,       0,       1,        0,        0,    0],\n",
       "[                     0,                   0,       0,       0,        1,        0,    0],\n",
       "[                     0,                   0,       0,       0,        0,        1,    0],\n",
       "[                     0,                   0,       0,       0,        0,        0,    1],\n",
       "[N/(T**5*(-t + t_f)**2), N/(T**5*(-t + t_f)), -1/T**5, -5/T**4, -10/T**3, -10/T**2, -5/T]])"
      ]
     },
     "execution_count": 5,
     "metadata": {},
     "output_type": "execute_result"
    }
   ],
   "source": [
    "N, T = sym.symbols('N T')\n",
    "A = sym.Matrix([[0, 1, 0, 0, 0, 0, 0],\n",
    "                [0, 0, -1, 0, 0, 0, 0],\n",
    "                [0, 0, 0, 1 ,0, 0, 0],\n",
    "                [0, 0, 0, 0, 1, 0, 0],\n",
    "                [0, 0, 0, 0, 0, 1, 0],\n",
    "                [0, 0, 0, 0, 0, 0, 1],\n",
    "                [N/(t_f-t)**2/T**5, N/(t_f-t)/T**5, -1/T**5, -5/T**4, -10/T**3,\n",
    "                 -10/T**2, -5/T]])\n",
    "A"
   ]
  },
  {
   "cell_type": "code",
   "execution_count": 6,
   "id": "396ff2b2",
   "metadata": {},
   "outputs": [
    {
     "data": {
      "text/latex": [
       "$\\displaystyle \\left[\\begin{matrix}0 & 1 & 0 & 0 & 0 & 0 & 0\\\\0 & 0 & -1 & 0 & 0 & 0 & 0\\\\0 & 0 & 0 & 1 & 0 & 0 & 0\\\\0 & 0 & 0 & 0 & 1 & 0 & 0\\\\0 & 0 & 0 & 0 & 0 & 1 & 0\\\\0 & 0 & 0 & 0 & 0 & 0 & 1\\\\\\frac{109.375}{\\left(1 - 0.1 t\\right)^{2}} & \\frac{10937.5}{10.0 - t} & -3125.0 & -3125.0 & -1250.0 & -250.0 & -25.0\\end{matrix}\\right]$"
      ],
      "text/plain": [
       "Matrix([\n",
       "[                     0,                  1,       0,       0,       0,      0,     0],\n",
       "[                     0,                  0,      -1,       0,       0,      0,     0],\n",
       "[                     0,                  0,       0,       1,       0,      0,     0],\n",
       "[                     0,                  0,       0,       0,       1,      0,     0],\n",
       "[                     0,                  0,       0,       0,       0,      1,     0],\n",
       "[                     0,                  0,       0,       0,       0,      0,     1],\n",
       "[109.375/(1 - 0.1*t)**2, 10937.5/(10.0 - t), -3125.0, -3125.0, -1250.0, -250.0, -25.0]])"
      ]
     },
     "execution_count": 6,
     "metadata": {},
     "output_type": "execute_result"
    }
   ],
   "source": [
    "B = A.subs([(T,0.2),(t_f,10.),(N,3.5)])\n",
    "B"
   ]
  },
  {
   "cell_type": "code",
   "execution_count": 7,
   "id": "535d81af",
   "metadata": {},
   "outputs": [
    {
     "data": {
      "text/latex": [
       "$\\displaystyle \\left[\\begin{matrix}0 & 0 & 0 & 0 & 0 & 0 & \\frac{109.375}{\\left(- 0.1 t_{f} + 0.1 t_{go} + 1\\right)^{2}}\\\\1 & 0 & 0 & 0 & 0 & 0 & \\frac{10937.5}{- t_{f} + t_{go} + 10.0}\\\\0 & -1 & 0 & 0 & 0 & 0 & -3125.0\\\\0 & 0 & 1 & 0 & 0 & 0 & -3125.0\\\\0 & 0 & 0 & 1 & 0 & 0 & -1250.0\\\\0 & 0 & 0 & 0 & 1 & 0 & -250.0\\\\0 & 0 & 0 & 0 & 0 & 1 & -25.0\\end{matrix}\\right]$"
      ],
      "text/plain": [
       "Matrix([\n",
       "[0,  0, 0, 0, 0, 0, 109.375/(-0.1*t_f + 0.1*t_go + 1)**2],\n",
       "[1,  0, 0, 0, 0, 0,         10937.5/(-t_f + t_go + 10.0)],\n",
       "[0, -1, 0, 0, 0, 0,                              -3125.0],\n",
       "[0,  0, 1, 0, 0, 0,                              -3125.0],\n",
       "[0,  0, 0, 1, 0, 0,                              -1250.0],\n",
       "[0,  0, 0, 0, 1, 0,                               -250.0],\n",
       "[0,  0, 0, 0, 0, 1,                                -25.0]])"
      ]
     },
     "execution_count": 7,
     "metadata": {},
     "output_type": "execute_result"
    }
   ],
   "source": [
    "B.transpose().subs(t,t_f-t_go)"
   ]
  },
  {
   "cell_type": "code",
   "execution_count": 8,
   "id": "dbc34e99",
   "metadata": {},
   "outputs": [
    {
     "data": {
      "text/latex": [
       "$\\displaystyle \\left[\\begin{array}{c}q_{0, 0}\\\\q_{1, 0}\\\\q_{2, 0}\\\\q_{3, 0}\\\\q_{4, 0}\\\\q_{5, 0}\\\\q_{6, 0}\\end{array}\\right]$"
      ],
      "text/plain": [
       "Matrix([\n",
       "[q[0, 0]],\n",
       "[q[1, 0]],\n",
       "[q[2, 0]],\n",
       "[q[3, 0]],\n",
       "[q[4, 0]],\n",
       "[q[5, 0]],\n",
       "[q[6, 0]]])"
      ]
     },
     "execution_count": 8,
     "metadata": {},
     "output_type": "execute_result"
    }
   ],
   "source": [
    "q = sym.MatrixSymbol('q',7,1)\n",
    "sym.Matrix(q)"
   ]
  },
  {
   "cell_type": "code",
   "execution_count": 9,
   "id": "a8f7108f",
   "metadata": {},
   "outputs": [
    {
     "data": {
      "text/plain": [
       "sympy.matrices.dense.MutableDenseMatrix"
      ]
     },
     "execution_count": 9,
     "metadata": {},
     "output_type": "execute_result"
    }
   ],
   "source": [
    "qdot = B*q\n",
    "f = sym.Matrix(qdot)\n",
    "type(f)"
   ]
  },
  {
   "cell_type": "code",
   "execution_count": 10,
   "id": "cd121f91",
   "metadata": {},
   "outputs": [
    {
     "data": {
      "text/latex": [
       "$\\displaystyle \\left[\\begin{matrix}0 & 1 & 0 & 0 & 0 & 0 & 0\\\\0 & 0 & -1 & 0 & 0 & 0 & 0\\\\0 & 0 & 0 & 1 & 0 & 0 & 0\\\\0 & 0 & 0 & 0 & 1 & 0 & 0\\\\0 & 0 & 0 & 0 & 0 & 1 & 0\\\\0 & 0 & 0 & 0 & 0 & 0 & 1\\\\\\frac{109.375}{\\left(1 - 0.1 t\\right)^{2}} & \\frac{10937.5}{10.0 - t} & -3125.0 & -3125.0 & -1250.0 & -250.0 & -25.0\\end{matrix}\\right] q$"
      ],
      "text/plain": [
       "Matrix([\n",
       "[                     0,                  1,       0,       0,       0,      0,     0],\n",
       "[                     0,                  0,      -1,       0,       0,      0,     0],\n",
       "[                     0,                  0,       0,       1,       0,      0,     0],\n",
       "[                     0,                  0,       0,       0,       1,      0,     0],\n",
       "[                     0,                  0,       0,       0,       0,      1,     0],\n",
       "[                     0,                  0,       0,       0,       0,      0,     1],\n",
       "[109.375/(1 - 0.1*t)**2, 10937.5/(10.0 - t), -3125.0, -3125.0, -1250.0, -250.0, -25.0]])*q"
      ]
     },
     "execution_count": 10,
     "metadata": {},
     "output_type": "execute_result"
    }
   ],
   "source": [
    "qdot"
   ]
  },
  {
   "cell_type": "code",
   "execution_count": 11,
   "id": "7d4e1752",
   "metadata": {},
   "outputs": [
    {
     "data": {
      "text/plain": [
       "array([[ 1.00000000e+00],\n",
       "       [-1.00000000e+00],\n",
       "       [ 1.00000000e+00],\n",
       "       [ 1.00000000e+00],\n",
       "       [ 1.00000000e+00],\n",
       "       [ 1.00000000e+00],\n",
       "       [-6.23691406e+03]])"
      ]
     },
     "execution_count": 11,
     "metadata": {},
     "output_type": "execute_result"
    }
   ],
   "source": [
    "f = sym.lambdify((q,t),sym.Matrix(B*q))\n",
    "v = np.ones((7,1))\n",
    "f(v,2)"
   ]
  },
  {
   "cell_type": "code",
   "execution_count": 12,
   "id": "3004e6d9",
   "metadata": {},
   "outputs": [
    {
     "data": {
      "image/png": "[encoded data removed]",
      "text/plain": [
       "<Figure size 864x504 with 1 Axes>"
      ]
     },
     "metadata": {
      "needs_background": "light"
     },
     "output_type": "display_data"
    }
   ],
   "source": [
    "B = A.subs([(T,0.2),(t_f,10.),(N,5.)])\n",
    "f = sym.lambdify((q,t),sym.Matrix(B*q))\n",
    "Nsamp = 1000\n",
    "Trun = 5\n",
    "q = np.zeros((7,Nsamp), dtype=float)\n",
    "q[0,0] = 1.\n",
    "t = np.linspace(0, Trun, num=Nsamp, endpoint=False)\n",
    "h = t[1]-t[0]\n",
    "qnew = np.zeros(7)\n",
    "qnew[0] = 1.\n",
    "\n",
    "for i in range(Nsamp):\n",
    "#    print(qnew.reshape((7,1)))\n",
    "    q[:,i] = qnew.reshape(7)\n",
    "#    print(q)\n",
    "    qCol = qnew.reshape((7,1))\n",
    "#    qCol.shape = (7,1)\n",
    "    tk = t[i]\n",
    "    K0 = f(qCol, tk)\n",
    "    half_h = 0.5*h\n",
    "    K1 = f(qCol + half_h*K0, tk + half_h)\n",
    "    K2 = f(qCol + half_h*K1, tk + half_h)\n",
    "    K3 = f(qCol + K2,        tk + h)\n",
    "    qnew = qCol + (h/6)*(K0 + 2*K1 + 2*K2 + K3)\n",
    "    \n",
    "\n",
    "# print(q[0,:])\n",
    "plt.figure(figsize=(12,7))\n",
    "plt.plot(t,q[0,:])\n",
    "plt.plot(t,q[1,:], color='r')\n",
    "plt.plot(t,q[2,:], color='g')\n",
    "# plt.plot(t,q[3,:], color='y')\n",
    "plt.grid(True)\n"
   ]
  },
  {
   "cell_type": "code",
   "execution_count": 15,
   "id": "3a6b46fd",
   "metadata": {},
   "outputs": [
    {
     "data": {
      "text/plain": [
       "Text(0.5, 1.0, '$\\\\dot{\\\\lambda}$')"
      ]
     },
     "execution_count": 15,
     "metadata": {},
     "output_type": "execute_result"
    },
    {
     "data": {
      "image/png": "[encoded data removed]",
      "text/plain": [
       "<Figure size 864x504 with 1 Axes>"
      ]
     },
     "metadata": {
      "needs_background": "light"
     },
     "output_type": "display_data"
    }
   ],
   "source": [
    "plt.figure(figsize=(12,7))\n",
    "plt.plot(t,q[0,:]/(10-t)**2+q[1,:]/(10-t))\n",
    "plt.grid(True)\n",
    "plt.title(r'$\\dot{\\lambda}$',fontsize=50)\n"
   ]
  },
  {
   "cell_type": "code",
   "execution_count": 14,
   "id": "5bfcc600",
   "metadata": {},
   "outputs": [
    {
     "data": {
      "text/latex": [
       "$\\displaystyle \\left[\\begin{matrix}0 & 1 & 0 & 0 & 0 & 0 & 0\\\\0 & 0 & -1 & 0 & 0 & 0 & 0\\\\0 & 0 & 0 & 1 & 0 & 0 & 0\\\\0 & 0 & 0 & 0 & 1 & 0 & 0\\\\0 & 0 & 0 & 0 & 0 & 1 & 0\\\\0 & 0 & 0 & 0 & 0 & 0 & 1\\\\\\frac{156.25}{\\left(1 - 0.1 t\\right)^{2}} & \\frac{15625.0}{10.0 - t} & -3125.0 & -3125.0 & -1250.0 & -250.0 & -25.0\\end{matrix}\\right]$"
      ],
      "text/plain": [
       "Matrix([\n",
       "[                    0,                  1,       0,       0,       0,      0,     0],\n",
       "[                    0,                  0,      -1,       0,       0,      0,     0],\n",
       "[                    0,                  0,       0,       1,       0,      0,     0],\n",
       "[                    0,                  0,       0,       0,       1,      0,     0],\n",
       "[                    0,                  0,       0,       0,       0,      1,     0],\n",
       "[                    0,                  0,       0,       0,       0,      0,     1],\n",
       "[156.25/(1 - 0.1*t)**2, 15625.0/(10.0 - t), -3125.0, -3125.0, -1250.0, -250.0, -25.0]])"
      ]
     },
     "execution_count": 14,
     "metadata": {},
     "output_type": "execute_result"
    }
   ],
   "source": [
    "B"
   ]
  },
  {
   "cell_type": "code",
   "execution_count": null,
   "id": "b2e2d2b3",
   "metadata": {},
   "outputs": [],
   "source": []
  }
 ],
 "metadata": {
  "kernelspec": {
   "display_name": "Python 3 (ipykernel)",
   "language": "python",
   "name": "python3"
  },
  "language_info": {
   "codemirror_mode": {
    "name": "ipython",
    "version": 3
   },
   "file_extension": ".py",
   "mimetype": "text/x-python",
   "name": "python",
   "nbconvert_exporter": "python",
   "pygments_lexer": "ipython3",
   "version": "3.8.12"
  }
 },
 "nbformat": 4,
 "nbformat_minor": 5
}
